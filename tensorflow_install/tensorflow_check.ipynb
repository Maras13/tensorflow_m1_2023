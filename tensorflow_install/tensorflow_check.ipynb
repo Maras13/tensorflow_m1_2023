{
 "cells": [
  {
   "cell_type": "code",
   "execution_count": 3,
   "id": "8816034b-d53f-4e15-ad09-4f0ec4f2ef95",
   "metadata": {},
   "outputs": [],
   "source": [
    "import tensorflow.keras\n",
    "import pandas as pd\n",
    "import sklearn as sk\n",
    "import tensorflow as tf\n",
    "import platform\n",
    "import sys"
   ]
  },
  {
   "cell_type": "code",
   "execution_count": 6,
   "id": "1d8e8522-0626-4d3a-9514-6d0be3bc2708",
   "metadata": {},
   "outputs": [
    {
     "name": "stdout",
     "output_type": "stream",
     "text": [
      "Python Platform: macOS-13.3.1-arm64-arm-64bit\n",
      "Tensorflow Version 2.14.0\n",
      "Python 3.10.13 | packaged by conda-forge | (main, Oct 26 2023, 18:09:17) [Clang 16.0.6 ]\n",
      "Scikit-learn 1.3.2\n",
      "Pandas version 2.1.2\n",
      "GPU is available\n"
     ]
    }
   ],
   "source": [
    "print(f\"Python Platform: {platform.platform()}\")\n",
    "print(f\"Tensorflow Version {tf.__version__}\")\n",
    "print(f\"Python {sys.version}\")\n",
    "print(f\"Scikit-learn {sk.__version__}\")\n",
    "print(f\"Pandas version {pd.__version__}\")\n",
    "gpu =len(tf.config.list_physical_devices(\"GPU\"))>0\n",
    "print(\"GPU is\", \"available\" if gpu else \"Not available\")"
   ]
  },
  {
   "cell_type": "code",
   "execution_count": null,
   "id": "469ea62c-f06d-43b9-9b83-78f7de4e36e8",
   "metadata": {},
   "outputs": [],
   "source": []
  }
 ],
 "metadata": {
  "kernelspec": {
   "display_name": "Python 3.10 (tensorflow)",
   "language": "python",
   "name": "tensorflow"
  },
  "language_info": {
   "codemirror_mode": {
    "name": "ipython",
    "version": 3
   },
   "file_extension": ".py",
   "mimetype": "text/x-python",
   "name": "python",
   "nbconvert_exporter": "python",
   "pygments_lexer": "ipython3",
   "version": "3.10.13"
  }
 },
 "nbformat": 4,
 "nbformat_minor": 5
}
